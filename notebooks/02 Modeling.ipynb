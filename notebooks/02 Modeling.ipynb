{
 "cells": [
  {
   "cell_type": "code",
   "execution_count": 12,
   "id": "d7dbb7e1-c0a1-433b-a08b-e9675ad5a68f",
   "metadata": {},
   "outputs": [
    {
     "name": "stdout",
     "output_type": "stream",
     "text": [
      "--- Model-Ready Data Loaded Successfully ---\n",
      "<class 'pandas.core.frame.DataFrame'>\n",
      "DatetimeIndex: 9555 entries, 1981-01-01 to 2007-02-28\n",
      "Data columns (total 3 columns):\n",
      " #   Column       Non-Null Count  Dtype  \n",
      "---  ------       --------------  -----  \n",
      " 0   discharge    9555 non-null   float64\n",
      " 1   rainfall_mm  9555 non-null   float64\n",
      " 2   soi_index    9555 non-null   float64\n",
      "dtypes: float64(3)\n",
      "memory usage: 298.6 KB\n",
      "\n",
      "--- Data Preview ---\n"
     ]
    },
    {
     "data": {
      "text/html": [
       "<div>\n",
       "<style scoped>\n",
       "    .dataframe tbody tr th:only-of-type {\n",
       "        vertical-align: middle;\n",
       "    }\n",
       "\n",
       "    .dataframe tbody tr th {\n",
       "        vertical-align: top;\n",
       "    }\n",
       "\n",
       "    .dataframe thead th {\n",
       "        text-align: right;\n",
       "    }\n",
       "</style>\n",
       "<table border=\"1\" class=\"dataframe\">\n",
       "  <thead>\n",
       "    <tr style=\"text-align: right;\">\n",
       "      <th></th>\n",
       "      <th>discharge</th>\n",
       "      <th>rainfall_mm</th>\n",
       "      <th>soi_index</th>\n",
       "    </tr>\n",
       "    <tr>\n",
       "      <th>date</th>\n",
       "      <th></th>\n",
       "      <th></th>\n",
       "      <th></th>\n",
       "    </tr>\n",
       "  </thead>\n",
       "  <tbody>\n",
       "    <tr>\n",
       "      <th>1981-01-01</th>\n",
       "      <td>17.065</td>\n",
       "      <td>0.024594</td>\n",
       "      <td>0.27</td>\n",
       "    </tr>\n",
       "    <tr>\n",
       "      <th>1981-01-02</th>\n",
       "      <td>17.065</td>\n",
       "      <td>0.000007</td>\n",
       "      <td>0.27</td>\n",
       "    </tr>\n",
       "    <tr>\n",
       "      <th>1981-01-03</th>\n",
       "      <td>17.065</td>\n",
       "      <td>0.000000</td>\n",
       "      <td>0.27</td>\n",
       "    </tr>\n",
       "    <tr>\n",
       "      <th>1981-01-04</th>\n",
       "      <td>16.386</td>\n",
       "      <td>0.343530</td>\n",
       "      <td>0.27</td>\n",
       "    </tr>\n",
       "    <tr>\n",
       "      <th>1981-01-05</th>\n",
       "      <td>16.386</td>\n",
       "      <td>0.002130</td>\n",
       "      <td>0.27</td>\n",
       "    </tr>\n",
       "  </tbody>\n",
       "</table>\n",
       "</div>"
      ],
      "text/plain": [
       "            discharge  rainfall_mm  soi_index\n",
       "date                                         \n",
       "1981-01-01     17.065     0.024594       0.27\n",
       "1981-01-02     17.065     0.000007       0.27\n",
       "1981-01-03     17.065     0.000000       0.27\n",
       "1981-01-04     16.386     0.343530       0.27\n",
       "1981-01-05     16.386     0.002130       0.27"
      ]
     },
     "execution_count": 12,
     "metadata": {},
     "output_type": "execute_result"
    }
   ],
   "source": [
    "import pandas as pd\n",
    "import numpy as np\n",
    "import matplotlib.pyplot as plt\n",
    "import seaborn as sns\n",
    "\n",
    "# Set the plot style\n",
    "plt.style.use('seaborn-v0_8-whitegrid')\n",
    "\n",
    "# Load our feature-engineered, model-ready data\n",
    "df = pd.read_csv('../data/processed/model_ready_data.csv', index_col='date', parse_dates=True)\n",
    "\n",
    "print(\"--- Model-Ready Data Loaded Successfully ---\")\n",
    "df.info()\n",
    "\n",
    "print(\"\\n--- Data Preview ---\")\n",
    "df.head()"
   ]
  },
  {
   "cell_type": "code",
   "execution_count": 13,
   "id": "d73b9766-3099-46e2-b591-eea72f3c382c",
   "metadata": {},
   "outputs": [
    {
     "name": "stdout",
     "output_type": "stream",
     "text": [
      "--- Model-Ready Data Loaded Successfully ---\n",
      "<class 'pandas.core.frame.DataFrame'>\n",
      "DatetimeIndex: 9555 entries, 1981-01-01 to 2007-02-28\n",
      "Data columns (total 3 columns):\n",
      " #   Column       Non-Null Count  Dtype  \n",
      "---  ------       --------------  -----  \n",
      " 0   discharge    9555 non-null   float64\n",
      " 1   rainfall_mm  9555 non-null   float64\n",
      " 2   soi_index    9555 non-null   float64\n",
      "dtypes: float64(3)\n",
      "memory usage: 298.6 KB\n"
     ]
    }
   ],
   "source": [
    "import pandas as pd\n",
    "import numpy as np\n",
    "# ... other imports\n",
    "\n",
    "# Load our feature-engineered, model-ready data\n",
    "df = pd.read_csv('../data/processed/model_ready_data.csv', index_col='date', parse_dates=True)\n",
    "\n",
    "print(\"--- Model-Ready Data Loaded Successfully ---\")\n",
    "df.info()"
   ]
  },
  {
   "cell_type": "code",
   "execution_count": 4,
   "id": "14057ca5-ce5f-42a7-a6fd-1bdf780cd443",
   "metadata": {},
   "outputs": [
    {
     "name": "stdout",
     "output_type": "stream",
     "text": [
      "--- Shape of our data ---\n",
      "Features (X) shape: (9519, 21)\n",
      "Target (y) shape: (9519,)\n"
     ]
    }
   ],
   "source": [
    "# The target variable 'y' is what we want to predict.\n",
    "y = df['target_discharge_t+7']\n",
    "\n",
    "# The features 'X' are all the columns we use to make the prediction.\n",
    "# We drop the original 'discharge' and our target column.\n",
    "X = df.drop(columns=['discharge', 'target_discharge_t+7'])\n",
    "\n",
    "print(\"--- Shape of our data ---\")\n",
    "print(\"Features (X) shape:\", X.shape)\n",
    "print(\"Target (y) shape:\", y.shape)"
   ]
  },
  {
   "cell_type": "code",
   "execution_count": 14,
   "id": "41e98d89-06ea-4845-86e1-0908c667b151",
   "metadata": {},
   "outputs": [
    {
     "name": "stdout",
     "output_type": "stream",
     "text": [
      "Index(['discharge', 'rainfall_mm', 'soi_index'], dtype='object')\n",
      "\n",
      "--- Model-Ready Data Loaded Successfully ---\n",
      "<class 'pandas.core.frame.DataFrame'>\n",
      "DatetimeIndex: 9555 entries, 1981-01-01 to 2007-02-28\n",
      "Data columns (total 3 columns):\n",
      " #   Column       Non-Null Count  Dtype  \n",
      "---  ------       --------------  -----  \n",
      " 0   discharge    9555 non-null   float64\n",
      " 1   rainfall_mm  9555 non-null   float64\n",
      " 2   soi_index    9555 non-null   float64\n",
      "dtypes: float64(3)\n",
      "memory usage: 298.6 KB\n"
     ]
    }
   ],
   "source": [
    "# Load our feature-engineered, model-ready data\n",
    "df = pd.read_csv('../data/processed/model_ready_data.csv', index_col='date', parse_dates=True)\n",
    "\n",
    "# --- Add this line to see the actual column names ---\n",
    "print(df.columns)\n",
    "\n",
    "print(\"\\n--- Model-Ready Data Loaded Successfully ---\")\n",
    "df.info()"
   ]
  },
  {
   "cell_type": "code",
   "execution_count": 18,
   "id": "a468c971-3b6a-4e60-aacd-c2ce21495b77",
   "metadata": {},
   "outputs": [],
   "source": [
    "# Rerun this cell first\n",
    "df = pd.read_csv('../data/processed/model_ready_data.csv', index_col='date', parse_dates=True)"
   ]
  },
  {
   "cell_type": "code",
   "execution_count": 19,
   "id": "38b967d5-a499-41d4-af5a-798c87d81e75",
   "metadata": {},
   "outputs": [],
   "source": [
    "# Rerun this cell third\n",
    "split_date = '2023-01-01'\n",
    "X_train = X.loc[X.index < split_date]\n",
    "y_train = y.loc[y.index < split_date]\n",
    "X_test = X.loc[X.index >= split_date]\n",
    "y_test = y.loc[y.index >= split_date]"
   ]
  },
  {
   "cell_type": "code",
   "execution_count": 20,
   "id": "0c4fb388-d1f9-433e-8a6a-5ba291db51ce",
   "metadata": {},
   "outputs": [],
   "source": [
    "# Now this cell will work\n",
    "X_train.to_csv('../data/processed/X_train.csv')\n",
    "y_train.to_csv('../data/processed/y_train.csv')\n",
    "X_test.to_csv('../data/processed/X_test.csv')\n",
    "y_test.to_csv('../data/processed/y_test.csv')"
   ]
  },
  {
   "cell_type": "code",
   "execution_count": null,
   "id": "bcbe00b6-3b84-4eb5-8ce0-68d6a4b2a5e8",
   "metadata": {},
   "outputs": [],
   "source": []
  }
 ],
 "metadata": {
  "kernelspec": {
   "display_name": "Python 3 (ipykernel)",
   "language": "python",
   "name": "python3"
  },
  "language_info": {
   "codemirror_mode": {
    "name": "ipython",
    "version": 3
   },
   "file_extension": ".py",
   "mimetype": "text/x-python",
   "name": "python",
   "nbconvert_exporter": "python",
   "pygments_lexer": "ipython3",
   "version": "3.13.5"
  }
 },
 "nbformat": 4,
 "nbformat_minor": 5
}
