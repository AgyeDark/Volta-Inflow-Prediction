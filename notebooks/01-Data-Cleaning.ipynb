{
 "cells": [
  {
   "cell_type": "code",
   "execution_count": null,
   "id": "a47c5711-2f13-493c-94b6-f8ba586512a7",
   "metadata": {},
   "outputs": [],
   "source": []
  },
  {
   "cell_type": "code",
   "execution_count": 5,
   "id": "9b267faf-d7ad-496b-af45-16d69dc4f517",
   "metadata": {},
   "outputs": [
    {
     "name": "stdout",
     "output_type": "stream",
     "text": [
      "Collecting pandas\n",
      "  Downloading pandas-2.3.3-cp312-cp312-win_amd64.whl.metadata (19 kB)\n",
      "Collecting numpy>=1.26.0 (from pandas)\n",
      "  Downloading numpy-2.3.3-cp312-cp312-win_amd64.whl.metadata (60 kB)\n",
      "Requirement already satisfied: python-dateutil>=2.8.2 in c:\\users\\dell\\appdata\\local\\programs\\python\\python312\\lib\\site-packages (from pandas) (2.9.0.post0)\n",
      "Collecting pytz>=2020.1 (from pandas)\n",
      "  Downloading pytz-2025.2-py2.py3-none-any.whl.metadata (22 kB)\n",
      "Collecting tzdata>=2022.7 (from pandas)\n",
      "  Downloading tzdata-2025.2-py2.py3-none-any.whl.metadata (1.4 kB)\n",
      "Requirement already satisfied: six>=1.5 in c:\\users\\dell\\appdata\\local\\programs\\python\\python312\\lib\\site-packages (from python-dateutil>=2.8.2->pandas) (1.17.0)\n",
      "Downloading pandas-2.3.3-cp312-cp312-win_amd64.whl (11.0 MB)\n",
      "   ---------------------------------------- 0.0/11.0 MB ? eta -:--:--\n",
      "    --------------------------------------- 0.3/11.0 MB ? eta -:--:--\n",
      "   -- ------------------------------------- 0.8/11.0 MB 2.6 MB/s eta 0:00:04\n",
      "   -------- ------------------------------- 2.4/11.0 MB 5.0 MB/s eta 0:00:02\n",
      "   --------------------------- ------------ 7.6/11.0 MB 11.5 MB/s eta 0:00:01\n",
      "   ---------------------------------------- 11.0/11.0 MB 13.5 MB/s eta 0:00:00\n",
      "Downloading numpy-2.3.3-cp312-cp312-win_amd64.whl (12.8 MB)\n",
      "   ---------------------------------------- 0.0/12.8 MB ? eta -:--:--\n",
      "   ------ --------------------------------- 2.1/12.8 MB 9.8 MB/s eta 0:00:02\n",
      "   -------- ------------------------------- 2.6/12.8 MB 5.4 MB/s eta 0:00:02\n",
      "   ---------- ----------------------------- 3.4/12.8 MB 5.4 MB/s eta 0:00:02\n",
      "   -------------- ------------------------- 4.7/12.8 MB 5.5 MB/s eta 0:00:02\n",
      "   ------------------ --------------------- 5.8/12.8 MB 5.2 MB/s eta 0:00:02\n",
      "   ------------------- -------------------- 6.3/12.8 MB 5.1 MB/s eta 0:00:02\n",
      "   ---------------------- ----------------- 7.3/12.8 MB 5.0 MB/s eta 0:00:02\n",
      "   ------------------------- -------------- 8.1/12.8 MB 4.7 MB/s eta 0:00:01\n",
      "   --------------------------- ------------ 8.9/12.8 MB 4.6 MB/s eta 0:00:01\n",
      "   ---------------------------- ----------- 9.2/12.8 MB 4.5 MB/s eta 0:00:01\n",
      "   ------------------------------- -------- 10.0/12.8 MB 4.3 MB/s eta 0:00:01\n",
      "   ---------------------------------------  12.6/12.8 MB 4.9 MB/s eta 0:00:01\n",
      "   ---------------------------------------- 12.8/12.8 MB 4.9 MB/s eta 0:00:00\n",
      "Downloading pytz-2025.2-py2.py3-none-any.whl (509 kB)\n",
      "Downloading tzdata-2025.2-py2.py3-none-any.whl (347 kB)\n",
      "Installing collected packages: pytz, tzdata, numpy, pandas\n",
      "Successfully installed numpy-2.3.3 pandas-2.3.3 pytz-2025.2 tzdata-2025.2\n"
     ]
    },
    {
     "name": "stderr",
     "output_type": "stream",
     "text": [
      "\n",
      "[notice] A new release of pip is available: 25.0.1 -> 25.2\n",
      "[notice] To update, run: python.exe -m pip install --upgrade pip\n"
     ]
    }
   ],
   "source": [
    "!pip install pandas"
   ]
  },
  {
   "cell_type": "code",
   "execution_count": 6,
   "id": "52d47ae7-17e4-4242-8a76-cd13c04bb6fc",
   "metadata": {},
   "outputs": [],
   "source": [
    "import pandas as pd"
   ]
  },
  {
   "cell_type": "code",
   "execution_count": 13,
   "id": "3601ef41-6064-4d59-8384-fd90a457e1e3",
   "metadata": {},
   "outputs": [
    {
     "data": {
      "text/plain": [
       "'C:\\\\Users\\\\dell\\\\all\\\\Desktop\\\\2025_Mphil\\\\RivBasMan\\\\volta-inflow-prediction\\\\volta-project\\\\Volta-Inflow-Prediction\\\\notebooks'"
      ]
     },
     "execution_count": 13,
     "metadata": {},
     "output_type": "execute_result"
    }
   ],
   "source": [
    "import os\n",
    "os.getcwd()"
   ]
  },
  {
   "cell_type": "code",
   "execution_count": 7,
   "id": "fddd08e3-f099-41b9-847d-501852177323",
   "metadata": {},
   "outputs": [
    {
     "name": "stdout",
     "output_type": "stream",
     "text": [
      "--- Starting Data Processing Pipeline ---\n",
      "✅ Discharge data loaded and cleaned.\n",
      "✅ Rainfall data loaded.\n",
      "✅ SOI data loaded and cleaned.\n",
      "✅ All datasets merged into df_master.\n",
      "Selecting core numeric columns for modeling...\n",
      "✅ Feature engineering complete.\n"
     ]
    }
   ],
   "source": [
    "import pandas as pd\n",
    "import numpy as np\n",
    "import os\n",
    "\n",
    "print(\"--- Starting Data Processing Pipeline ---\")\n",
    "\n",
    "# =================================================================\n",
    "# 1. DEFINE THE CLEANING FUNCTION\n",
    "# =================================================================\n",
    "def process_grdc_file(file_path):\n",
    "    try:\n",
    "        df = pd.read_csv(file_path, comment='#', sep=';', header=None, names=['date', 'time', 'discharge_m3/s'], encoding='latin1')\n",
    "        df_clean = df.iloc[1:].copy()\n",
    "        df_clean = df_clean.drop(columns=['time'])\n",
    "        df_clean['date'] = pd.to_datetime(df_clean['date'])\n",
    "        df_clean['discharge_m3/s'] = pd.to_numeric(df_clean['discharge_m3/s'])\n",
    "        df_clean.set_index('date', inplace=True)\n",
    "        return df_clean\n",
    "    except Exception as e:\n",
    "        print(f\"Error processing {os.path.basename(file_path)}: {e}\")\n",
    "        return None\n",
    "\n",
    "# =================================================================\n",
    "# 2. LOAD AND CLEAN ALL RAW DATA\n",
    "# =================================================================\n",
    "# Load Discharge Data\n",
    "station_path = '../data/raw/1531450_Q_Day.Cmd.txt'\n",
    "df_discharge = process_grdc_file(station_path).rename(columns={'discharge_m3/s': 'discharge'})\n",
    "print(\"✅ Discharge data loaded and cleaned.\")\n",
    "\n",
    "# Load Rainfall Data\n",
    "rainfall_path = '../data/processed/Volta_Basin_Daily_Rainfall_1981_2023.csv'\n",
    "df_rainfall = pd.read_csv(rainfall_path, index_col='date', parse_dates=True)\n",
    "print(\"✅ Rainfall data loaded.\")\n",
    "\n",
    "# Load and Clean SOI Data\n",
    "soi_path = '../data/raw/soi.long.csv'\n",
    "df_soi = pd.read_csv(soi_path)\n",
    "df_soi.columns = df_soi.columns.str.strip()\n",
    "date_str_fixed = df_soi['Date'].str[:-1] + '1'\n",
    "df_soi['date'] = pd.to_datetime(date_str_fixed)\n",
    "value_col_name = [col for col in df_soi.columns if col not in ['Date', 'date']][0]\n",
    "df_soi = df_soi.rename(columns={value_col_name: 'soi_index'})\n",
    "df_soi = df_soi[['date', 'soi_index']]\n",
    "df_soi.set_index('date', inplace=True)\n",
    "df_soi_daily = df_soi.resample('D').ffill()\n",
    "print(\"✅ SOI data loaded and cleaned.\")\n",
    "\n",
    "# =================================================================\n",
    "# 3. MERGE DATASETS\n",
    "# =================================================================\n",
    "df_master = df_discharge.join(df_rainfall, how='inner').join(df_soi_daily, how='inner')\n",
    "print(\"✅ All datasets merged into df_master.\")\n",
    "\n",
    "# =================================================================\n",
    "# =================================================================\n",
    "# 4. PERFORM FEATURE ENGINEERING (UPDATED)\n",
    "# =================================================================\n",
    "print(\"Selecting core numeric columns for modeling...\")\n",
    "\n",
    "# --- THIS IS THE NEW, FIXING LINE ---\n",
    "# We select only the columns we actually need for the model before creating features.\n",
    "df_master = df_master[['discharge', 'rainfall_mm', 'soi_index']]\n",
    "# ------------------------------------\n",
    "\n",
    "df_model = df_master.copy()\n",
    "for i in range(1, 8):\n",
    "    df_model[f'discharge_lag_{i}'] = df_model['discharge'].shift(i)\n",
    "    df_model[f'rainfall_lag_{i}'] = df_model['rainfall_mm'].shift(i)\n",
    "\n",
    "df_model['rainfall_ma_7'] = df_model['rainfall_mm'].rolling(window=7).mean()\n",
    "df_model['rainfall_ma_30'] = df_model['rainfall_mm'].rolling(window=30).mean()\n",
    "df_model['month'] = df_model.index.month\n",
    "df_model['target_discharge_t+7'] = df_model['discharge'].shift(-7)\n",
    "df_model.dropna(inplace=True)\n",
    "print(\"✅ Feature engineering complete.\")"
   ]
  },
  {
   "cell_type": "code",
   "execution_count": 15,
   "id": "bf63cbe1-ee42-486b-9f15-5d2d62138232",
   "metadata": {},
   "outputs": [
    {
     "data": {
      "text/plain": [
       "['.git',\n",
       " '.gitignore',\n",
       " '.ipynb_checkpoints',\n",
       " '01-Data-Cleaning.ipynb',\n",
       " 'data',\n",
       " 'figures',\n",
       " 'notebooks',\n",
       " 'README.md',\n",
       " 'scripts']"
      ]
     },
     "execution_count": 15,
     "metadata": {},
     "output_type": "execute_result"
    }
   ],
   "source": [
    "import os\n",
    "# List all files and folders one level up from our notebook\n",
    "os.listdir('../')"
   ]
  },
  {
   "cell_type": "code",
   "execution_count": 5,
   "id": "1d8b054e-c3f2-41c1-b6c2-56b773148eab",
   "metadata": {},
   "outputs": [
    {
     "name": "stdout",
     "output_type": "stream",
     "text": [
      "Success! Data loaded correctly. Here is a preview:\n"
     ]
    },
    {
     "name": "stderr",
     "output_type": "stream",
     "text": [
      "C:\\Users\\dell\\AppData\\Local\\Temp\\ipykernel_26680\\1671446670.py:7: UserWarning: Could not infer format, so each element will be parsed individually, falling back to `dateutil`. To ensure parsing is consistent and as-expected, please specify a format.\n",
      "  df_station1 = pd.read_csv(\n"
     ]
    },
    {
     "data": {
      "text/html": [
       "<div>\n",
       "<style scoped>\n",
       "    .dataframe tbody tr th:only-of-type {\n",
       "        vertical-align: middle;\n",
       "    }\n",
       "\n",
       "    .dataframe tbody tr th {\n",
       "        vertical-align: top;\n",
       "    }\n",
       "\n",
       "    .dataframe thead th {\n",
       "        text-align: right;\n",
       "    }\n",
       "</style>\n",
       "<table border=\"1\" class=\"dataframe\">\n",
       "  <thead>\n",
       "    <tr style=\"text-align: right;\">\n",
       "      <th></th>\n",
       "      <th>date</th>\n",
       "      <th>time</th>\n",
       "      <th>discharge_m3/s</th>\n",
       "    </tr>\n",
       "  </thead>\n",
       "  <tbody>\n",
       "    <tr>\n",
       "      <th>0</th>\n",
       "      <td>YYYY-MM-DD</td>\n",
       "      <td>hh:mm</td>\n",
       "      <td>Value</td>\n",
       "    </tr>\n",
       "    <tr>\n",
       "      <th>1</th>\n",
       "      <td>1998-10-28</td>\n",
       "      <td>--:--</td>\n",
       "      <td>86.722</td>\n",
       "    </tr>\n",
       "    <tr>\n",
       "      <th>2</th>\n",
       "      <td>1998-10-29</td>\n",
       "      <td>--:--</td>\n",
       "      <td>82.388</td>\n",
       "    </tr>\n",
       "    <tr>\n",
       "      <th>3</th>\n",
       "      <td>1998-10-30</td>\n",
       "      <td>--:--</td>\n",
       "      <td>77.804</td>\n",
       "    </tr>\n",
       "    <tr>\n",
       "      <th>4</th>\n",
       "      <td>1998-10-31</td>\n",
       "      <td>--:--</td>\n",
       "      <td>72.236</td>\n",
       "    </tr>\n",
       "  </tbody>\n",
       "</table>\n",
       "</div>"
      ],
      "text/plain": [
       "         date   time discharge_m3/s\n",
       "0  YYYY-MM-DD  hh:mm          Value\n",
       "1  1998-10-28  --:--         86.722\n",
       "2  1998-10-29  --:--         82.388\n",
       "3  1998-10-30  --:--         77.804\n",
       "4  1998-10-31  --:--         72.236"
      ]
     },
     "execution_count": 5,
     "metadata": {},
     "output_type": "execute_result"
    }
   ],
   "source": [
    "import pandas as pd\n",
    "\n",
    "# Define the relative path to your file\n",
    "file_path = '../data/raw/1531300_Q_Day.Cmd.txt'\n",
    "\n",
    "# Read the data, now specifying the correct encoding\n",
    "df_station1 = pd.read_csv(\n",
    "    file_path,\n",
    "    comment='#',\n",
    "    sep=';',\n",
    "    header=None,\n",
    "    names=['date', 'time', 'discharge_m3/s'],\n",
    "    parse_dates=['date'],\n",
    "    encoding='latin1'  # <-- This is the magic line!\n",
    ")\n",
    "\n",
    "# If the code reaches here, it worked!\n",
    "print(\"Success! Data loaded correctly. Here is a preview:\")\n",
    "df_station1.head()"
   ]
  },
  {
   "cell_type": "code",
   "execution_count": 20,
   "id": "11f76147-849b-48db-acb6-149ebf747534",
   "metadata": {},
   "outputs": [
    {
     "name": "stdout",
     "output_type": "stream",
     "text": [
      "--- Cleaned DataFrame Info ---\n",
      "<class 'pandas.core.frame.DataFrame'>\n",
      "DatetimeIndex: 3046 entries, 1998-10-28 to 2007-02-28\n",
      "Data columns (total 1 columns):\n",
      " #   Column          Non-Null Count  Dtype  \n",
      "---  ------          --------------  -----  \n",
      " 0   discharge_m3/s  3046 non-null   float64\n",
      "dtypes: float64(1)\n",
      "memory usage: 47.6 KB\n",
      "\n",
      "--- Cleaned DataFrame Preview ---\n"
     ]
    },
    {
     "data": {
      "text/html": [
       "<div>\n",
       "<style scoped>\n",
       "    .dataframe tbody tr th:only-of-type {\n",
       "        vertical-align: middle;\n",
       "    }\n",
       "\n",
       "    .dataframe tbody tr th {\n",
       "        vertical-align: top;\n",
       "    }\n",
       "\n",
       "    .dataframe thead th {\n",
       "        text-align: right;\n",
       "    }\n",
       "</style>\n",
       "<table border=\"1\" class=\"dataframe\">\n",
       "  <thead>\n",
       "    <tr style=\"text-align: right;\">\n",
       "      <th></th>\n",
       "      <th>discharge_m3/s</th>\n",
       "    </tr>\n",
       "    <tr>\n",
       "      <th>date</th>\n",
       "      <th></th>\n",
       "    </tr>\n",
       "  </thead>\n",
       "  <tbody>\n",
       "    <tr>\n",
       "      <th>1998-10-28</th>\n",
       "      <td>86.722</td>\n",
       "    </tr>\n",
       "    <tr>\n",
       "      <th>1998-10-29</th>\n",
       "      <td>82.388</td>\n",
       "    </tr>\n",
       "    <tr>\n",
       "      <th>1998-10-30</th>\n",
       "      <td>77.804</td>\n",
       "    </tr>\n",
       "    <tr>\n",
       "      <th>1998-10-31</th>\n",
       "      <td>72.236</td>\n",
       "    </tr>\n",
       "    <tr>\n",
       "      <th>1998-11-01</th>\n",
       "      <td>65.975</td>\n",
       "    </tr>\n",
       "  </tbody>\n",
       "</table>\n",
       "</div>"
      ],
      "text/plain": [
       "            discharge_m3/s\n",
       "date                      \n",
       "1998-10-28          86.722\n",
       "1998-10-29          82.388\n",
       "1998-10-30          77.804\n",
       "1998-10-31          72.236\n",
       "1998-11-01          65.975"
      ]
     },
     "execution_count": 20,
     "metadata": {},
     "output_type": "execute_result"
    }
   ],
   "source": [
    "# The DataFrame we loaded is in the variable 'df_station1'.\n",
    "# Let's create a new, clean version.\n",
    "\n",
    "# 1. The first row (index 0) is a junk header. We'll select everything\n",
    "#    from the second row (index 1) onwards using '.iloc[1:]'.\n",
    "#    The '.copy()' prevents a common pandas warning.\n",
    "df_clean = df_station1.iloc[1:].copy()\n",
    "\n",
    "# 2. The 'time' column has no useful information ('--:--'), so we'll drop it.\n",
    "df_clean = df_clean.drop(columns=['time'])\n",
    "\n",
    "# 3. Now that the junk row is gone, let's make sure the 'date' column\n",
    "#    is treated as a proper date object.\n",
    "df_clean['date'] = pd.to_datetime(df_clean['date'])\n",
    "\n",
    "# 4. Similarly, let's ensure the 'discharge_m3/s' column is a number.\n",
    "df_clean['discharge_m3/s'] = pd.to_numeric(df_clean['discharge_m3/s'])\n",
    "\n",
    "# 5. The final, most important step: set the 'date' column as the\n",
    "#    official index of the table. This makes it a true time series.\n",
    "df_clean.set_index('date', inplace=True)\n",
    "\n",
    "\n",
    "# --- Let's verify our work ---\n",
    "print(\"--- Cleaned DataFrame Info ---\")\n",
    "df_clean.info()\n",
    "\n",
    "print(\"\\n--- Cleaned DataFrame Preview ---\")\n",
    "df_clean.head()"
   ]
  },
  {
   "cell_type": "code",
   "execution_count": 21,
   "id": "d6c2a994-ea2a-4fa2-87d8-af0911bcdcca",
   "metadata": {},
   "outputs": [],
   "source": [
    "import pandas as pd\n",
    "import os\n",
    "\n",
    "def process_grdc_file(file_path):\n",
    "    \"\"\"\n",
    "    Loads a GRDC .Cmd.txt file, cleans it, and returns a time-series DataFrame.\n",
    "    \"\"\"\n",
    "    try:\n",
    "        # Step 1: Read the messy file\n",
    "        df = pd.read_csv(\n",
    "            file_path,\n",
    "            comment='#',\n",
    "            sep=';',\n",
    "            header=None,\n",
    "            names=['date', 'time', 'discharge_m3/s'],\n",
    "            encoding='latin1'\n",
    "        )\n",
    "        \n",
    "        # Step 2: Clean the data\n",
    "        df_clean = df.iloc[1:].copy()\n",
    "        df_clean = df_clean.drop(columns=['time'])\n",
    "        df_clean['date'] = pd.to_datetime(df_clean['date'])\n",
    "        df_clean['discharge_m3/s'] = pd.to_numeric(df_clean['discharge_m3/s'])\n",
    "        df_clean.set_index('date', inplace=True)\n",
    "        \n",
    "        return df_clean\n",
    "    except Exception as e:\n",
    "        print(f\"Error processing {os.path.basename(file_path)}: {e}\")\n",
    "        return None"
   ]
  },
  {
   "cell_type": "code",
   "execution_count": 22,
   "id": "cefe8ce3-b516-425b-a1a9-98c2a9bab533",
   "metadata": {},
   "outputs": [
    {
     "name": "stdout",
     "output_type": "stream",
     "text": [
      "Processing station files...\n",
      "  -> Successfully processed station 1531300\n",
      "  -> Successfully processed station 1531450\n",
      "  -> Successfully processed station 1531550\n",
      "  -> Successfully processed station 1531600\n",
      "  -> Successfully processed station 1531800\n",
      "\n",
      "All station data is now loaded and cleaned!\n"
     ]
    }
   ],
   "source": [
    "# Define the path to your raw data\n",
    "raw_data_path = '../data/raw/'\n",
    "\n",
    "# Find all the daily discharge files\n",
    "# We'll look for any filename that contains \"Q_Day\"\n",
    "station_files = [f for f in os.listdir(raw_data_path) if 'Q_Day' in f]\n",
    "\n",
    "# A dictionary to hold our clean DataFrames, with the station ID as the key\n",
    "all_stations_df = {}\n",
    "\n",
    "print(\"Processing station files...\")\n",
    "for filename in station_files:\n",
    "    # Extract the station ID from the filename (e.g., '1531300')\n",
    "    station_id = filename.split('_')[0]\n",
    "    \n",
    "    # Create the full path to the file\n",
    "    full_path = os.path.join(raw_data_path, filename)\n",
    "    \n",
    "    # Use our function to process the file\n",
    "    cleaned_df = process_grdc_file(full_path)\n",
    "    \n",
    "    # Add the result to our dictionary\n",
    "    if cleaned_df is not None:\n",
    "        all_stations_df[station_id] = cleaned_df\n",
    "        print(f\"  -> Successfully processed station {station_id}\")\n",
    "\n",
    "print(\"\\nAll station data is now loaded and cleaned!\")"
   ]
  },
  {
   "cell_type": "code",
   "execution_count": 24,
   "id": "0530dfab-3421-4c21-bcd3-3f5aead2a302",
   "metadata": {},
   "outputs": [
    {
     "name": "stdout",
     "output_type": "stream",
     "text": [
      "Collecting matplotlib\n",
      "  Downloading matplotlib-3.10.7-cp312-cp312-win_amd64.whl.metadata (11 kB)\n",
      "Collecting contourpy>=1.0.1 (from matplotlib)\n",
      "  Downloading contourpy-1.3.3-cp312-cp312-win_amd64.whl.metadata (5.5 kB)\n",
      "Collecting cycler>=0.10 (from matplotlib)\n",
      "  Downloading cycler-0.12.1-py3-none-any.whl.metadata (3.8 kB)\n",
      "Collecting fonttools>=4.22.0 (from matplotlib)\n",
      "  Downloading fonttools-4.60.1-cp312-cp312-win_amd64.whl.metadata (114 kB)\n",
      "Collecting kiwisolver>=1.3.1 (from matplotlib)\n",
      "  Downloading kiwisolver-1.4.9-cp312-cp312-win_amd64.whl.metadata (6.4 kB)\n",
      "Requirement already satisfied: numpy>=1.23 in c:\\users\\dell\\appdata\\local\\programs\\python\\python312\\lib\\site-packages (from matplotlib) (2.3.3)\n",
      "Requirement already satisfied: packaging>=20.0 in c:\\users\\dell\\appdata\\local\\programs\\python\\python312\\lib\\site-packages (from matplotlib) (25.0)\n",
      "Collecting pillow>=8 (from matplotlib)\n",
      "  Downloading pillow-11.3.0-cp312-cp312-win_amd64.whl.metadata (9.2 kB)\n",
      "Collecting pyparsing>=3 (from matplotlib)\n",
      "  Downloading pyparsing-3.2.5-py3-none-any.whl.metadata (5.0 kB)\n",
      "Requirement already satisfied: python-dateutil>=2.7 in c:\\users\\dell\\appdata\\local\\programs\\python\\python312\\lib\\site-packages (from matplotlib) (2.9.0.post0)\n",
      "Requirement already satisfied: six>=1.5 in c:\\users\\dell\\appdata\\local\\programs\\python\\python312\\lib\\site-packages (from python-dateutil>=2.7->matplotlib) (1.17.0)\n",
      "Downloading matplotlib-3.10.7-cp312-cp312-win_amd64.whl (8.1 MB)\n",
      "   ---------------------------------------- 0.0/8.1 MB ? eta -:--:--\n",
      "   ---------------------------------------- 0.0/8.1 MB ? eta -:--:--\n",
      "   -- ------------------------------------- 0.5/8.1 MB 1.7 MB/s eta 0:00:05\n",
      "   ------ --------------------------------- 1.3/8.1 MB 2.8 MB/s eta 0:00:03\n",
      "   ---------------- ----------------------- 3.4/8.1 MB 5.4 MB/s eta 0:00:01\n",
      "   -------------------------------------- - 7.9/8.1 MB 9.7 MB/s eta 0:00:01\n",
      "   ---------------------------------------- 8.1/8.1 MB 9.7 MB/s eta 0:00:00\n",
      "Downloading contourpy-1.3.3-cp312-cp312-win_amd64.whl (226 kB)\n",
      "Downloading cycler-0.12.1-py3-none-any.whl (8.3 kB)\n",
      "Downloading fonttools-4.60.1-cp312-cp312-win_amd64.whl (2.3 MB)\n",
      "   ---------------------------------------- 0.0/2.3 MB ? eta -:--:--\n",
      "   ---------------------------------------- 2.3/2.3 MB 64.7 MB/s eta 0:00:00\n",
      "Downloading kiwisolver-1.4.9-cp312-cp312-win_amd64.whl (73 kB)\n",
      "Downloading pillow-11.3.0-cp312-cp312-win_amd64.whl (7.0 MB)\n",
      "   ---------------------------------------- 0.0/7.0 MB ? eta -:--:--\n",
      "   ------------------------- -------------- 4.5/7.0 MB 67.7 MB/s eta 0:00:01\n",
      "   ---------------------------------------- 7.0/7.0 MB 15.9 MB/s eta 0:00:00\n",
      "Downloading pyparsing-3.2.5-py3-none-any.whl (113 kB)\n",
      "Installing collected packages: pyparsing, pillow, kiwisolver, fonttools, cycler, contourpy, matplotlib\n",
      "Successfully installed contourpy-1.3.3 cycler-0.12.1 fonttools-4.60.1 kiwisolver-1.4.9 matplotlib-3.10.7 pillow-11.3.0 pyparsing-3.2.5\n"
     ]
    },
    {
     "name": "stderr",
     "output_type": "stream",
     "text": [
      "\n",
      "[notice] A new release of pip is available: 25.0.1 -> 25.2\n",
      "[notice] To update, run: python.exe -m pip install --upgrade pip\n"
     ]
    }
   ],
   "source": [
    "!pip install matplotlib"
   ]
  },
  {
   "cell_type": "code",
   "execution_count": 25,
   "id": "8ab02946-1033-4961-8005-61750706b41e",
   "metadata": {},
   "outputs": [
    {
     "name": "stdout",
     "output_type": "stream",
     "text": [
      "Collecting seaborn\n",
      "  Downloading seaborn-0.13.2-py3-none-any.whl.metadata (5.4 kB)\n",
      "Requirement already satisfied: numpy!=1.24.0,>=1.20 in c:\\users\\dell\\appdata\\local\\programs\\python\\python312\\lib\\site-packages (from seaborn) (2.3.3)\n",
      "Requirement already satisfied: pandas>=1.2 in c:\\users\\dell\\appdata\\local\\programs\\python\\python312\\lib\\site-packages (from seaborn) (2.3.3)\n",
      "Requirement already satisfied: matplotlib!=3.6.1,>=3.4 in c:\\users\\dell\\appdata\\local\\programs\\python\\python312\\lib\\site-packages (from seaborn) (3.10.7)\n",
      "Requirement already satisfied: contourpy>=1.0.1 in c:\\users\\dell\\appdata\\local\\programs\\python\\python312\\lib\\site-packages (from matplotlib!=3.6.1,>=3.4->seaborn) (1.3.3)\n",
      "Requirement already satisfied: cycler>=0.10 in c:\\users\\dell\\appdata\\local\\programs\\python\\python312\\lib\\site-packages (from matplotlib!=3.6.1,>=3.4->seaborn) (0.12.1)\n",
      "Requirement already satisfied: fonttools>=4.22.0 in c:\\users\\dell\\appdata\\local\\programs\\python\\python312\\lib\\site-packages (from matplotlib!=3.6.1,>=3.4->seaborn) (4.60.1)\n",
      "Requirement already satisfied: kiwisolver>=1.3.1 in c:\\users\\dell\\appdata\\local\\programs\\python\\python312\\lib\\site-packages (from matplotlib!=3.6.1,>=3.4->seaborn) (1.4.9)\n",
      "Requirement already satisfied: packaging>=20.0 in c:\\users\\dell\\appdata\\local\\programs\\python\\python312\\lib\\site-packages (from matplotlib!=3.6.1,>=3.4->seaborn) (25.0)\n",
      "Requirement already satisfied: pillow>=8 in c:\\users\\dell\\appdata\\local\\programs\\python\\python312\\lib\\site-packages (from matplotlib!=3.6.1,>=3.4->seaborn) (11.3.0)\n",
      "Requirement already satisfied: pyparsing>=3 in c:\\users\\dell\\appdata\\local\\programs\\python\\python312\\lib\\site-packages (from matplotlib!=3.6.1,>=3.4->seaborn) (3.2.5)\n",
      "Requirement already satisfied: python-dateutil>=2.7 in c:\\users\\dell\\appdata\\local\\programs\\python\\python312\\lib\\site-packages (from matplotlib!=3.6.1,>=3.4->seaborn) (2.9.0.post0)\n",
      "Requirement already satisfied: pytz>=2020.1 in c:\\users\\dell\\appdata\\local\\programs\\python\\python312\\lib\\site-packages (from pandas>=1.2->seaborn) (2025.2)\n",
      "Requirement already satisfied: tzdata>=2022.7 in c:\\users\\dell\\appdata\\local\\programs\\python\\python312\\lib\\site-packages (from pandas>=1.2->seaborn) (2025.2)\n",
      "Requirement already satisfied: six>=1.5 in c:\\users\\dell\\appdata\\local\\programs\\python\\python312\\lib\\site-packages (from python-dateutil>=2.7->matplotlib!=3.6.1,>=3.4->seaborn) (1.17.0)\n",
      "Downloading seaborn-0.13.2-py3-none-any.whl (294 kB)\n",
      "Installing collected packages: seaborn\n",
      "Successfully installed seaborn-0.13.2\n"
     ]
    },
    {
     "name": "stderr",
     "output_type": "stream",
     "text": [
      "\n",
      "[notice] A new release of pip is available: 25.0.1 -> 25.2\n",
      "[notice] To update, run: python.exe -m pip install --upgrade pip\n"
     ]
    }
   ],
   "source": [
    "!pip install seaborn"
   ]
  },
  {
   "cell_type": "code",
   "execution_count": 26,
   "id": "f69e16f7-4b60-45c5-8001-a20e6d896a92",
   "metadata": {},
   "outputs": [
    {
     "data": {
      "image/png": "[encoded data removed]",
      "text/plain": [
       "<Figure size 1800x900 with 1 Axes>"
      ]
     },
     "metadata": {},
     "output_type": "display_data"
    }
   ],
   "source": [
    "import matplotlib.pyplot as plt\n",
    "\n",
    "# Set up the plot size for better viewing\n",
    "plt.style.use('seaborn-v0_8-whitegrid')\n",
    "plt.figure(figsize=(18, 9))\n",
    "\n",
    "# Plot each station's data\n",
    "for station_id, df in all_stations_df.items():\n",
    "    plt.plot(df.index, df['discharge_m3/s'], label=station_id)\n",
    "\n",
    "# Add titles and labels to make the plot professional\n",
    "plt.title('Comparison of Daily Discharge from Volta Basin Stations', fontsize=16)\n",
    "plt.xlabel('Year', fontsize=12)\n",
    "plt.ylabel('Discharge (m³/s)', fontsize=12)\n",
    "plt.legend(title='Station ID')\n",
    "plt.show()"
   ]
  },
  {
   "cell_type": "code",
   "execution_count": 28,
   "id": "165400a6-61b2-48fe-b790-a8ebb55ac151",
   "metadata": {},
   "outputs": [
    {
     "name": "stdout",
     "output_type": "stream",
     "text": [
      "Collecting ee\n",
      "  Downloading ee-0.2.tar.gz (3.0 kB)\n",
      "  Installing build dependencies: started\n",
      "  Installing build dependencies: finished with status 'done'\n",
      "  Getting requirements to build wheel: started\n",
      "  Getting requirements to build wheel: finished with status 'done'\n",
      "  Preparing metadata (pyproject.toml): started\n",
      "  Preparing metadata (pyproject.toml): finished with status 'done'\n",
      "Collecting blessings (from ee)\n",
      "  Downloading blessings-1.7-py3-none-any.whl.metadata (19 kB)\n",
      "Requirement already satisfied: six in c:\\users\\dell\\appdata\\local\\programs\\python\\python312\\lib\\site-packages (from blessings->ee) (1.17.0)\n",
      "Downloading blessings-1.7-py3-none-any.whl (18 kB)\n",
      "Building wheels for collected packages: ee\n",
      "  Building wheel for ee (pyproject.toml): started\n",
      "  Building wheel for ee (pyproject.toml): finished with status 'done'\n",
      "  Created wheel for ee: filename=ee-0.2-py3-none-any.whl size=3706 sha256=ee29ea4fbb6f10458e5d8393cb143cf1aac5c6386245277dfb96807d064cf946\n",
      "  Stored in directory: c:\\users\\dell\\appdata\\local\\pip\\cache\\wheels\\68\\e5\\fb\\285c24eaa7ce9d3844e311635dea798b3c4c9ceb6c32cd1da4\n",
      "Successfully built ee\n",
      "Installing collected packages: blessings, ee\n",
      "Successfully installed blessings-1.7 ee-0.2\n"
     ]
    },
    {
     "name": "stderr",
     "output_type": "stream",
     "text": [
      "\n",
      "[notice] A new release of pip is available: 25.0.1 -> 25.2\n",
      "[notice] To update, run: python.exe -m pip install --upgrade pip\n"
     ]
    }
   ],
   "source": [
    "!pip install ee"
   ]
  },
  {
   "cell_type": "code",
   "execution_count": 29,
   "id": "68183fdd-ae92-4fba-8e5a-44d79d277e09",
   "metadata": {},
   "outputs": [
    {
     "name": "stderr",
     "output_type": "stream",
     "text": [
      "C:\\Users\\dell\\AppData\\Local\\Programs\\Python\\Python312\\Lib\\site-packages\\ee\\main.py:150: SyntaxWarning: invalid escape sequence '\\d'\n",
      "  lines = filter(lambda x: re.match(\"^\\d+ bytes\", x), data.splitlines())\n"
     ]
    },
    {
     "ename": "ModuleNotFoundError",
     "evalue": "No module named '_curses'",
     "output_type": "error",
     "traceback": [
      "\u001b[31m---------------------------------------------------------------------------\u001b[39m",
      "\u001b[31mModuleNotFoundError\u001b[39m                       Traceback (most recent call last)",
      "\u001b[36mCell\u001b[39m\u001b[36m \u001b[39m\u001b[32mIn[29]\u001b[39m\u001b[32m, line 1\u001b[39m\n\u001b[32m----> \u001b[39m\u001b[32m1\u001b[39m \u001b[38;5;28;01mimport\u001b[39;00m\u001b[38;5;250m \u001b[39m\u001b[34;01mee\u001b[39;00m\n\u001b[32m      2\u001b[39m \u001b[38;5;28;01mimport\u001b[39;00m\u001b[38;5;250m \u001b[39m\u001b[34;01mpandas\u001b[39;00m\u001b[38;5;250m \u001b[39m\u001b[38;5;28;01mas\u001b[39;00m\u001b[38;5;250m \u001b[39m\u001b[34;01mpd\u001b[39;00m\n\u001b[32m      4\u001b[39m \u001b[38;5;66;03m# --- This will trigger the authentication flow ---\u001b[39;00m\n",
      "\u001b[36mFile \u001b[39m\u001b[32m~\\AppData\\Local\\Programs\\Python\\Python312\\Lib\\site-packages\\ee\\__init__.py:1\u001b[39m\n\u001b[32m----> \u001b[39m\u001b[32m1\u001b[39m \u001b[38;5;28;01mfrom\u001b[39;00m\u001b[38;5;250m \u001b[39m\u001b[34;01m.\u001b[39;00m\u001b[34;01mmain\u001b[39;00m\u001b[38;5;250m \u001b[39m\u001b[38;5;28;01mimport\u001b[39;00m main\n",
      "\u001b[36mFile \u001b[39m\u001b[32m~\\AppData\\Local\\Programs\\Python\\Python312\\Lib\\site-packages\\ee\\main.py:5\u001b[39m\n\u001b[32m      3\u001b[39m \u001b[38;5;28;01mimport\u001b[39;00m\u001b[38;5;250m \u001b[39m\u001b[34;01msubprocess\u001b[39;00m\n\u001b[32m      4\u001b[39m \u001b[38;5;28;01mimport\u001b[39;00m\u001b[38;5;250m \u001b[39m\u001b[34;01msys\u001b[39;00m\n\u001b[32m----> \u001b[39m\u001b[32m5\u001b[39m \u001b[38;5;28;01mimport\u001b[39;00m\u001b[38;5;250m \u001b[39m\u001b[34;01mblessings\u001b[39;00m\n\u001b[32m      6\u001b[39m \u001b[38;5;28;01mimport\u001b[39;00m\u001b[38;5;250m \u001b[39m\u001b[34;01mre\u001b[39;00m\n\u001b[32m      7\u001b[39m \u001b[38;5;28;01mimport\u001b[39;00m\u001b[38;5;250m \u001b[39m\u001b[34;01mos\u001b[39;00m\n",
      "\u001b[36mFile \u001b[39m\u001b[32m~\\AppData\\Local\\Programs\\Python\\Python312\\Lib\\site-packages\\blessings\\__init__.py:5\u001b[39m\n\u001b[32m      1\u001b[39m \u001b[33;03m\"\"\"A thin, practical wrapper around terminal coloring, styling, and\u001b[39;00m\n\u001b[32m      2\u001b[39m \u001b[33;03mpositioning\"\"\"\u001b[39;00m\n\u001b[32m      4\u001b[39m \u001b[38;5;28;01mfrom\u001b[39;00m\u001b[38;5;250m \u001b[39m\u001b[34;01mcontextlib\u001b[39;00m\u001b[38;5;250m \u001b[39m\u001b[38;5;28;01mimport\u001b[39;00m contextmanager\n\u001b[32m----> \u001b[39m\u001b[32m5\u001b[39m \u001b[38;5;28;01mimport\u001b[39;00m\u001b[38;5;250m \u001b[39m\u001b[34;01mcurses\u001b[39;00m\n\u001b[32m      6\u001b[39m \u001b[38;5;28;01mfrom\u001b[39;00m\u001b[38;5;250m \u001b[39m\u001b[34;01mcurses\u001b[39;00m\u001b[38;5;250m \u001b[39m\u001b[38;5;28;01mimport\u001b[39;00m setupterm, tigetnum, tigetstr, tparm\n\u001b[32m      7\u001b[39m \u001b[38;5;28;01mfrom\u001b[39;00m\u001b[38;5;250m \u001b[39m\u001b[34;01mfcntl\u001b[39;00m\u001b[38;5;250m \u001b[39m\u001b[38;5;28;01mimport\u001b[39;00m ioctl\n",
      "\u001b[36mFile \u001b[39m\u001b[32m~\\AppData\\Local\\Programs\\Python\\Python312\\Lib\\curses\\__init__.py:13\u001b[39m\n\u001b[32m      1\u001b[39m \u001b[33;03m\"\"\"curses\u001b[39;00m\n\u001b[32m      2\u001b[39m \n\u001b[32m      3\u001b[39m \u001b[33;03mThe main package for curses support for Python.  Normally used by importing\u001b[39;00m\n\u001b[32m   (...)\u001b[39m\u001b[32m     10\u001b[39m \n\u001b[32m     11\u001b[39m \u001b[33;03m\"\"\"\u001b[39;00m\n\u001b[32m---> \u001b[39m\u001b[32m13\u001b[39m \u001b[38;5;28;01mfrom\u001b[39;00m\u001b[38;5;250m \u001b[39m\u001b[34;01m_curses\u001b[39;00m\u001b[38;5;250m \u001b[39m\u001b[38;5;28;01mimport\u001b[39;00m *\n\u001b[32m     14\u001b[39m \u001b[38;5;28;01mimport\u001b[39;00m\u001b[38;5;250m \u001b[39m\u001b[34;01mos\u001b[39;00m\u001b[38;5;250m \u001b[39m\u001b[38;5;28;01mas\u001b[39;00m\u001b[38;5;250m \u001b[39m\u001b[34;01m_os\u001b[39;00m\n\u001b[32m     15\u001b[39m \u001b[38;5;28;01mimport\u001b[39;00m\u001b[38;5;250m \u001b[39m\u001b[34;01msys\u001b[39;00m\u001b[38;5;250m \u001b[39m\u001b[38;5;28;01mas\u001b[39;00m\u001b[38;5;250m \u001b[39m\u001b[34;01m_sys\u001b[39;00m\n",
      "\u001b[31mModuleNotFoundError\u001b[39m: No module named '_curses'"
     ]
    }
   ],
   "source": [
    "import ee\n",
    "import pandas as pd\n",
    "\n",
    "# --- This will trigger the authentication flow ---\n",
    "try:\n",
    "    ee.Initialize()\n",
    "except Exception as e:\n",
    "    ee.Authenticate()\n",
    "    ee.Initialize()\n",
    "# -------------------------------------------------\n",
    "\n",
    "print(\"Successfully connected to Google Earth Engine.\")\n",
    "\n",
    "# Define the Volta Basin boundary (a rough bounding box)\n",
    "# We can refine this later with a proper shapefile for more accuracy\n",
    "volta_basin = ee.Geometry.Rectangle([-5.5, 4.5, 2.0, 11.5]) # [minLon, minLat, maxLon, maxLat]\n",
    "\n",
    "# Load the CHIRPS rainfall dataset and filter it by date\n",
    "chirps = ee.ImageCollection('UCSB-CHG/CHIRPS/DAILY') \\\n",
    "            .filter(ee.Filter.date('1981-01-01', '2023-12-31'))\n",
    "\n",
    "# This is a function that GEE applies to every image (every day) in the dataset\n",
    "def calculate_daily_rainfall(image):\n",
    "    # Calculate the mean rainfall within our defined Volta Basin\n",
    "    mean_rainfall = image.reduceRegion(\n",
    "        reducer=ee.Reducer.mean(),\n",
    "        geometry=volta_basin,\n",
    "        scale=5566  # CHIRPS resolution in meters\n",
    "    ).get('precipitation')\n",
    "    \n",
    "    # Return a feature with the date and the calculated rainfall value\n",
    "    return ee.Feature(None, {\n",
    "        'date': image.date().format('YYYY-MM-dd'),\n",
    "        'rainfall_mm': mean_rainfall\n",
    "    })\n",
    "\n",
    "# Apply this function to the entire collection\n",
    "daily_rainfall_features = chirps.map(calculate_daily_rainfall)\n",
    "\n",
    "# --- Important Part: Get data from GEE servers to our notebook ---\n",
    "print(\"Fetching rainfall data from GEE... This may take a moment.\")\n",
    "results = daily_rainfall_features.getInfo()\n",
    "print(\"Data fetch complete!\")\n",
    "\n",
    "# Convert the results into a pandas DataFrame\n",
    "rainfall_list = [f['properties'] for f in results['features']]\n",
    "df_rainfall = pd.DataFrame(rainfall_list)\n",
    "\n",
    "# Clean up the DataFrame\n",
    "df_rainfall['date'] = pd.to_datetime(df_rainfall['date'])\n",
    "df_rainfall.set_index('date', inplace=True)\n",
    "\n",
    "# Save the processed data to a new file\n",
    "output_path = '../data/processed/volta_basin_daily_rainfall_1981_2023.csv'\n",
    "df_rainfall.to_csv(output_path)\n",
    "\n",
    "\n",
    "# --- Verify our work ---\n",
    "print(f\"\\nSuccessfully saved rainfall data to: {output_path}\")\n",
    "print(\"Here is a preview of the rainfall data:\")\n",
    "df_rainfall.head()"
   ]
  },
  {
   "cell_type": "code",
   "execution_count": 30,
   "id": "0c87b79e-d325-4c6e-9362-7fff7320b6cd",
   "metadata": {},
   "outputs": [
    {
     "name": "stderr",
     "output_type": "stream",
     "text": [
      "ERROR: Could not find a version that satisfies the requirement curses (from versions: none)\n",
      "\n",
      "[notice] A new release of pip is available: 25.0.1 -> 25.2\n",
      "[notice] To update, run: python.exe -m pip install --upgrade pip\n",
      "ERROR: No matching distribution found for curses\n"
     ]
    }
   ],
   "source": [
    "!pip install curses"
   ]
  },
  {
   "cell_type": "code",
   "execution_count": 31,
   "id": "f3cc4baf-5c2d-445f-8e06-9acbeafec814",
   "metadata": {},
   "outputs": [
    {
     "name": "stdout",
     "output_type": "stream",
     "text": [
      "Collecting windows-curses\n",
      "  Downloading windows_curses-2.4.1-cp312-cp312-win_amd64.whl.metadata (2.9 kB)\n",
      "Downloading windows_curses-2.4.1-cp312-cp312-win_amd64.whl (81 kB)\n",
      "Installing collected packages: windows-curses\n",
      "Successfully installed windows-curses-2.4.1\n"
     ]
    },
    {
     "name": "stderr",
     "output_type": "stream",
     "text": [
      "\n",
      "[notice] A new release of pip is available: 25.0.1 -> 25.2\n",
      "[notice] To update, run: python.exe -m pip install --upgrade pip\n"
     ]
    }
   ],
   "source": [
    "!pip install windows-curses"
   ]
  },
  {
   "cell_type": "code",
   "execution_count": 1,
   "id": "828c62ef-46a3-4406-9747-22315d8b6baf",
   "metadata": {},
   "outputs": [
    {
     "ename": "NameError",
     "evalue": "name 'ee' is not defined",
     "output_type": "error",
     "traceback": [
      "\u001b[1;31m---------------------------------------------------------------------------\u001b[0m",
      "\u001b[1;31mNameError\u001b[0m                                 Traceback (most recent call last)",
      "Cell \u001b[1;32mIn[1], line 2\u001b[0m\n\u001b[0;32m      1\u001b[0m \u001b[38;5;66;03m# Initialize the connection, telling it which project to use.\u001b[39;00m\n\u001b[1;32m----> 2\u001b[0m ee\u001b[38;5;241m.\u001b[39mInitialize(project\u001b[38;5;241m=\u001b[39m\u001b[38;5;124m'\u001b[39m\u001b[38;5;124menduring-trees-47\u001b[39m\u001b[38;5;124m'\u001b[39m)\n\u001b[0;32m      4\u001b[0m \u001b[38;5;28mprint\u001b[39m(\u001b[38;5;124m\"\u001b[39m\u001b[38;5;124mSuccessfully connected to Google Earth Engine.\u001b[39m\u001b[38;5;124m\"\u001b[39m)\n",
      "\u001b[1;31mNameError\u001b[0m: name 'ee' is not defined"
     ]
    }
   ],
   "source": [
    "# Initialize the connection, telling it which project to use.\n",
    "ee.Initialize(project='enduring-trees-47')\n",
    "\n",
    "print(\"Successfully connected to Google Earth Engine.\")\n",
    "\n",
    "# --- The rest of your code remains the same ---"
   ]
  },
  {
   "cell_type": "code",
   "execution_count": 2,
   "id": "a9b91590-9a84-4068-a449-f12a862a564b",
   "metadata": {},
   "outputs": [
    {
     "ename": "KeyError",
     "evalue": "'Year'",
     "output_type": "error",
     "traceback": [
      "\u001b[1;31m---------------------------------------------------------------------------\u001b[0m",
      "\u001b[1;31mKeyError\u001b[0m                                  Traceback (most recent call last)",
      "File \u001b[1;32m~\\anaconda3\\Lib\\site-packages\\pandas\\core\\indexes\\base.py:3805\u001b[0m, in \u001b[0;36mIndex.get_loc\u001b[1;34m(self, key)\u001b[0m\n\u001b[0;32m   3804\u001b[0m \u001b[38;5;28;01mtry\u001b[39;00m:\n\u001b[1;32m-> 3805\u001b[0m     \u001b[38;5;28;01mreturn\u001b[39;00m \u001b[38;5;28mself\u001b[39m\u001b[38;5;241m.\u001b[39m_engine\u001b[38;5;241m.\u001b[39mget_loc(casted_key)\n\u001b[0;32m   3806\u001b[0m \u001b[38;5;28;01mexcept\u001b[39;00m \u001b[38;5;167;01mKeyError\u001b[39;00m \u001b[38;5;28;01mas\u001b[39;00m err:\n",
      "File \u001b[1;32mindex.pyx:167\u001b[0m, in \u001b[0;36mpandas._libs.index.IndexEngine.get_loc\u001b[1;34m()\u001b[0m\n",
      "File \u001b[1;32mindex.pyx:196\u001b[0m, in \u001b[0;36mpandas._libs.index.IndexEngine.get_loc\u001b[1;34m()\u001b[0m\n",
      "File \u001b[1;32mpandas\\\\_libs\\\\hashtable_class_helper.pxi:7081\u001b[0m, in \u001b[0;36mpandas._libs.hashtable.PyObjectHashTable.get_item\u001b[1;34m()\u001b[0m\n",
      "File \u001b[1;32mpandas\\\\_libs\\\\hashtable_class_helper.pxi:7089\u001b[0m, in \u001b[0;36mpandas._libs.hashtable.PyObjectHashTable.get_item\u001b[1;34m()\u001b[0m\n",
      "\u001b[1;31mKeyError\u001b[0m: 'Year'",
      "\nThe above exception was the direct cause of the following exception:\n",
      "\u001b[1;31mKeyError\u001b[0m                                  Traceback (most recent call last)",
      "Cell \u001b[1;32mIn[2], line 9\u001b[0m\n\u001b[0;32m      5\u001b[0m df_soi \u001b[38;5;241m=\u001b[39m pd\u001b[38;5;241m.\u001b[39mread_csv(soi_path)\n\u001b[0;32m      7\u001b[0m \u001b[38;5;66;03m# The SOI file often has column names on two lines. Let's fix that.\u001b[39;00m\n\u001b[0;32m      8\u001b[0m \u001b[38;5;66;03m# We'll create a proper 'date' column from the 'Year' and 'Month' columns.\u001b[39;00m\n\u001b[1;32m----> 9\u001b[0m df_soi[\u001b[38;5;124m'\u001b[39m\u001b[38;5;124mdate\u001b[39m\u001b[38;5;124m'\u001b[39m] \u001b[38;5;241m=\u001b[39m pd\u001b[38;5;241m.\u001b[39mto_datetime(df_soi[\u001b[38;5;124m'\u001b[39m\u001b[38;5;124mYear\u001b[39m\u001b[38;5;124m'\u001b[39m]\u001b[38;5;241m.\u001b[39mastype(\u001b[38;5;28mstr\u001b[39m) \u001b[38;5;241m+\u001b[39m \u001b[38;5;124m'\u001b[39m\u001b[38;5;124m-\u001b[39m\u001b[38;5;124m'\u001b[39m \u001b[38;5;241m+\u001b[39m df_soi[\u001b[38;5;124m'\u001b[39m\u001b[38;5;124mMonth\u001b[39m\u001b[38;5;124m'\u001b[39m]\u001b[38;5;241m.\u001b[39mastype(\u001b[38;5;28mstr\u001b[39m) \u001b[38;5;241m+\u001b[39m \u001b[38;5;124m'\u001b[39m\u001b[38;5;124m-01\u001b[39m\u001b[38;5;124m'\u001b[39m)\n\u001b[0;32m     11\u001b[0m \u001b[38;5;66;03m# We only need the date and the SOI value\u001b[39;00m\n\u001b[0;32m     12\u001b[0m df_soi \u001b[38;5;241m=\u001b[39m df_soi[[\u001b[38;5;124m'\u001b[39m\u001b[38;5;124mdate\u001b[39m\u001b[38;5;124m'\u001b[39m, \u001b[38;5;124m'\u001b[39m\u001b[38;5;124mValue\u001b[39m\u001b[38;5;124m'\u001b[39m]]\u001b[38;5;241m.\u001b[39mrename(columns\u001b[38;5;241m=\u001b[39m{\u001b[38;5;124m'\u001b[39m\u001b[38;5;124mValue\u001b[39m\u001b[38;5;124m'\u001b[39m: \u001b[38;5;124m'\u001b[39m\u001b[38;5;124msoi_index\u001b[39m\u001b[38;5;124m'\u001b[39m})\n",
      "File \u001b[1;32m~\\anaconda3\\Lib\\site-packages\\pandas\\core\\frame.py:4102\u001b[0m, in \u001b[0;36mDataFrame.__getitem__\u001b[1;34m(self, key)\u001b[0m\n\u001b[0;32m   4100\u001b[0m \u001b[38;5;28;01mif\u001b[39;00m \u001b[38;5;28mself\u001b[39m\u001b[38;5;241m.\u001b[39mcolumns\u001b[38;5;241m.\u001b[39mnlevels \u001b[38;5;241m>\u001b[39m \u001b[38;5;241m1\u001b[39m:\n\u001b[0;32m   4101\u001b[0m     \u001b[38;5;28;01mreturn\u001b[39;00m \u001b[38;5;28mself\u001b[39m\u001b[38;5;241m.\u001b[39m_getitem_multilevel(key)\n\u001b[1;32m-> 4102\u001b[0m indexer \u001b[38;5;241m=\u001b[39m \u001b[38;5;28mself\u001b[39m\u001b[38;5;241m.\u001b[39mcolumns\u001b[38;5;241m.\u001b[39mget_loc(key)\n\u001b[0;32m   4103\u001b[0m \u001b[38;5;28;01mif\u001b[39;00m is_integer(indexer):\n\u001b[0;32m   4104\u001b[0m     indexer \u001b[38;5;241m=\u001b[39m [indexer]\n",
      "File \u001b[1;32m~\\anaconda3\\Lib\\site-packages\\pandas\\core\\indexes\\base.py:3812\u001b[0m, in \u001b[0;36mIndex.get_loc\u001b[1;34m(self, key)\u001b[0m\n\u001b[0;32m   3807\u001b[0m     \u001b[38;5;28;01mif\u001b[39;00m \u001b[38;5;28misinstance\u001b[39m(casted_key, \u001b[38;5;28mslice\u001b[39m) \u001b[38;5;129;01mor\u001b[39;00m (\n\u001b[0;32m   3808\u001b[0m         \u001b[38;5;28misinstance\u001b[39m(casted_key, abc\u001b[38;5;241m.\u001b[39mIterable)\n\u001b[0;32m   3809\u001b[0m         \u001b[38;5;129;01mand\u001b[39;00m \u001b[38;5;28many\u001b[39m(\u001b[38;5;28misinstance\u001b[39m(x, \u001b[38;5;28mslice\u001b[39m) \u001b[38;5;28;01mfor\u001b[39;00m x \u001b[38;5;129;01min\u001b[39;00m casted_key)\n\u001b[0;32m   3810\u001b[0m     ):\n\u001b[0;32m   3811\u001b[0m         \u001b[38;5;28;01mraise\u001b[39;00m InvalidIndexError(key)\n\u001b[1;32m-> 3812\u001b[0m     \u001b[38;5;28;01mraise\u001b[39;00m \u001b[38;5;167;01mKeyError\u001b[39;00m(key) \u001b[38;5;28;01mfrom\u001b[39;00m\u001b[38;5;250m \u001b[39m\u001b[38;5;21;01merr\u001b[39;00m\n\u001b[0;32m   3813\u001b[0m \u001b[38;5;28;01mexcept\u001b[39;00m \u001b[38;5;167;01mTypeError\u001b[39;00m:\n\u001b[0;32m   3814\u001b[0m     \u001b[38;5;66;03m# If we have a listlike key, _check_indexing_error will raise\u001b[39;00m\n\u001b[0;32m   3815\u001b[0m     \u001b[38;5;66;03m#  InvalidIndexError. Otherwise we fall through and re-raise\u001b[39;00m\n\u001b[0;32m   3816\u001b[0m     \u001b[38;5;66;03m#  the TypeError.\u001b[39;00m\n\u001b[0;32m   3817\u001b[0m     \u001b[38;5;28mself\u001b[39m\u001b[38;5;241m.\u001b[39m_check_indexing_error(key)\n",
      "\u001b[1;31mKeyError\u001b[0m: 'Year'"
     ]
    }
   ],
   "source": [
    "import pandas as pd\n",
    "\n",
    "# Load the SOI data (adjust filename if necessary)\n",
    "soi_path = '../data/raw/soi.long.csv'\n",
    "df_soi = pd.read_csv(soi_path)\n",
    "\n",
    "# The SOI file often has column names on two lines. Let's fix that.\n",
    "# We'll create a proper 'date' column from the 'Year' and 'Month' columns.\n",
    "df_soi['date'] = pd.to_datetime(df_soi['Year'].astype(str) + '-' + df_soi['Month'].astype(str) + '-01')\n",
    "\n",
    "# We only need the date and the SOI value\n",
    "df_soi = df_soi[['date', 'Value']].rename(columns={'Value': 'soi_index'})\n",
    "df_soi.set_index('date', inplace=True)\n",
    "\n",
    "# Resample the monthly data to daily using forward-fill\n",
    "df_soi_daily = df_soi.resample('D').ffill()\n",
    "\n",
    "print(\"SOI data cleaned and resampled to daily:\")\n",
    "df_soi_daily.head()"
   ]
  },
  {
   "cell_type": "code",
   "execution_count": 3,
   "id": "9be3ba7c-c454-4d8b-99be-f27259b5287e",
   "metadata": {},
   "outputs": [
    {
     "name": "stdout",
     "output_type": "stream",
     "text": [
      "--- DataFrame Preview ---\n",
      "         Date  \\\n",
      "0  1866-01-01   \n",
      "1  1866-02-01   \n",
      "2  1866-03-01   \n",
      "3  1866-04-01   \n",
      "4  1866-05-01   \n",
      "\n",
      "    SOI from CRU  missing value -99.99 https://psl.noaa.gov/data/timeseries/month/  \n",
      "0                                              -0.62                                \n",
      "1                                              -0.12                                \n",
      "2                                              -0.62                                \n",
      "3                                              -0.65                                \n",
      "4                                               0.04                                \n",
      "\n",
      "--- Actual Column Names ---\n",
      "Index(['Date', ' SOI from CRU  missing value -99.99 https://psl.noaa.gov/data/timeseries/month/'], dtype='object')\n"
     ]
    }
   ],
   "source": [
    "import pandas as pd\n",
    "\n",
    "# Load the SOI data\n",
    "soi_path = '../data/raw/soi.long.csv'\n",
    "df_soi_inspect = pd.read_csv(soi_path)\n",
    "\n",
    "# See the first 5 rows\n",
    "print(\"--- DataFrame Preview ---\")\n",
    "print(df_soi_inspect.head())\n",
    "\n",
    "# See the actual column names\n",
    "print(\"\\n--- Actual Column Names ---\")\n",
    "print(df_soi_inspect.columns)\n"
   ]
  },
  {
   "cell_type": "code",
   "execution_count": 3,
   "id": "1c128f90-9b05-4b1f-ac6a-89cd8cfac54f",
   "metadata": {},
   "outputs": [
    {
     "ename": "NameError",
     "evalue": "name 'df_master' is not defined",
     "output_type": "error",
     "traceback": [
      "\u001b[1;31m---------------------------------------------------------------------------\u001b[0m",
      "\u001b[1;31mNameError\u001b[0m                                 Traceback (most recent call last)",
      "Cell \u001b[1;32mIn[3], line 4\u001b[0m\n\u001b[0;32m      1\u001b[0m \u001b[38;5;66;03m# Rerun this cell in your 01-Data-Cleaning.ipynb notebook\u001b[39;00m\n\u001b[0;32m      3\u001b[0m \u001b[38;5;28;01mimport\u001b[39;00m\u001b[38;5;250m \u001b[39m\u001b[38;5;21;01mnumpy\u001b[39;00m\u001b[38;5;250m \u001b[39m\u001b[38;5;28;01mas\u001b[39;00m\u001b[38;5;250m \u001b[39m\u001b[38;5;21;01mnp\u001b[39;00m\n\u001b[1;32m----> 4\u001b[0m df_model \u001b[38;5;241m=\u001b[39m df_master\u001b[38;5;241m.\u001b[39mcopy()\n\u001b[0;32m      6\u001b[0m \u001b[38;5;66;03m# 1. Create Lag Features\u001b[39;00m\n\u001b[0;32m      7\u001b[0m \u001b[38;5;28;01mfor\u001b[39;00m i \u001b[38;5;129;01min\u001b[39;00m \u001b[38;5;28mrange\u001b[39m(\u001b[38;5;241m1\u001b[39m, \u001b[38;5;241m8\u001b[39m):\n",
      "\u001b[1;31mNameError\u001b[0m: name 'df_master' is not defined"
     ]
    }
   ],
   "source": [
    "# Rerun this cell in your 01-Data-Cleaning.ipynb notebook\n",
    "\n",
    "import numpy as np\n",
    "df_model = df_master.copy()\n",
    "\n",
    "# 1. Create Lag Features\n",
    "for i in range(1, 8):\n",
    "    df_model[f'discharge_lag_{i}'] = df_model['discharge'].shift(i)\n",
    "    df_model[f'rainfall_lag_{i}'] = df_model['rainfall_mm'].shift(i)\n",
    "\n",
    "# 2. Create Moving Average Features\n",
    "df_model['rainfall_ma_7'] = df_model['rainfall_mm'].rolling(window=7).mean()\n",
    "df_model['rainfall_ma_30'] = df_model['rainfall_mm'].rolling(window=30).mean()\n",
    "\n",
    "# 3. Create Time-Based Features\n",
    "df_model['month'] = df_model.index.month\n",
    "\n",
    "# 4. Create the Target Variable (y)\n",
    "df_model['target_discharge_t+7'] = df_model['discharge'].shift(-7)\n",
    "\n",
    "# --- Clean Up ---\n",
    "df_model.dropna(inplace=True)\n",
    "print(\"✅ Feature engineering complete. df_model is ready.\")\n"
   ]
  },
  {
   "cell_type": "code",
   "execution_count": 9,
   "id": "71504bde-a501-48a5-bb80-149913543788",
   "metadata": {},
   "outputs": [
    {
     "name": "stdout",
     "output_type": "stream",
     "text": [
      "Cleaned column names are: ['Date', 'SOI from CRU  missing value -99.99 https://psl.noaa.gov/data/timeseries/month/']\n",
      "Automatically detected value column: 'SOI from CRU  missing value -99.99 https://psl.noaa.gov/data/timeseries/month/'\n",
      "\n",
      "✅ SOI data cleaned and resampled to daily:\n"
     ]
    },
    {
     "data": {
      "text/html": [
       "<div>\n",
       "<style scoped>\n",
       "    .dataframe tbody tr th:only-of-type {\n",
       "        vertical-align: middle;\n",
       "    }\n",
       "\n",
       "    .dataframe tbody tr th {\n",
       "        vertical-align: top;\n",
       "    }\n",
       "\n",
       "    .dataframe thead th {\n",
       "        text-align: right;\n",
       "    }\n",
       "</style>\n",
       "<table border=\"1\" class=\"dataframe\">\n",
       "  <thead>\n",
       "    <tr style=\"text-align: right;\">\n",
       "      <th></th>\n",
       "      <th>soi_index</th>\n",
       "    </tr>\n",
       "    <tr>\n",
       "      <th>date</th>\n",
       "      <th></th>\n",
       "    </tr>\n",
       "  </thead>\n",
       "  <tbody>\n",
       "    <tr>\n",
       "      <th>1866-01-01</th>\n",
       "      <td>-0.62</td>\n",
       "    </tr>\n",
       "    <tr>\n",
       "      <th>1866-01-02</th>\n",
       "      <td>-0.62</td>\n",
       "    </tr>\n",
       "    <tr>\n",
       "      <th>1866-01-03</th>\n",
       "      <td>-0.62</td>\n",
       "    </tr>\n",
       "    <tr>\n",
       "      <th>1866-01-04</th>\n",
       "      <td>-0.62</td>\n",
       "    </tr>\n",
       "    <tr>\n",
       "      <th>1866-01-05</th>\n",
       "      <td>-0.62</td>\n",
       "    </tr>\n",
       "  </tbody>\n",
       "</table>\n",
       "</div>"
      ],
      "text/plain": [
       "            soi_index\n",
       "date                 \n",
       "1866-01-01      -0.62\n",
       "1866-01-02      -0.62\n",
       "1866-01-03      -0.62\n",
       "1866-01-04      -0.62\n",
       "1866-01-05      -0.62"
      ]
     },
     "execution_count": 9,
     "metadata": {},
     "output_type": "execute_result"
    }
   ],
   "source": [
    "import pandas as pd\n",
    "\n",
    "# Load the SOI data\n",
    "soi_path = '../data/raw/soi.long.csv'\n",
    "df_soi = pd.read_csv(soi_path)\n",
    "\n",
    "# --- Clean up column names to remove hidden spaces ---\n",
    "df_soi.columns = df_soi.columns.str.strip()\n",
    "print(f\"Cleaned column names are: {df_soi.columns.to_list()}\")\n",
    "\n",
    "# --- Fix the non-standard date format reliably ---\n",
    "date_str_fixed = df_soi['Date'].str[:-1] + '1'\n",
    "df_soi['date'] = pd.to_datetime(date_str_fixed)\n",
    "\n",
    "# --- NEW: Automatically find and rename the value column ---\n",
    "# Find the name of the column that is not 'Date' or our new 'date'\n",
    "try:\n",
    "    value_col_name = [col for col in df_soi.columns if col not in ['Date', 'date']][0]\n",
    "    print(f\"Automatically detected value column: '{value_col_name}'\")\n",
    "    # Rename the detected column to 'soi_index'\n",
    "    df_soi = df_soi.rename(columns={value_col_name: 'soi_index'})\n",
    "except IndexError:\n",
    "    print(\"Error: Could not automatically detect the value column.\")\n",
    "    # You can inspect the DataFrame here if needed\n",
    "    # print(df_soi.head())\n",
    "\n",
    "\n",
    "# --- Final Steps ---\n",
    "# Keep only the two columns we need\n",
    "df_soi = df_soi[['date', 'soi_index']]\n",
    "df_soi.set_index('date', inplace=True)\n",
    "\n",
    "# Resample the monthly data to daily using forward-fill\n",
    "df_soi_daily = df_soi.resample('D').ffill()\n",
    "\n",
    "print(\"\\n✅ SOI data cleaned and resampled to daily:\")\n",
    "df_soi_daily.head()"
   ]
  },
  {
   "cell_type": "code",
   "execution_count": 11,
   "id": "714a108b-8521-4e9e-bbd5-918626815031",
   "metadata": {},
   "outputs": [],
   "source": [
    "def process_grdc_file(file_path):\n",
    "    \"\"\"\n",
    "    Loads a GRDC .Cmd.txt file, cleans it, and returns a time-series DataFrame.\n",
    "    \"\"\"\n",
    "    try:\n",
    "        # Step 1: Read the messy file\n",
    "        df = pd.read_csv(\n",
    "            file_path,\n",
    "            comment='#',\n",
    "            sep=';',\n",
    "            header=None,\n",
    "            names=['date', 'time', 'discharge_m3/s'],\n",
    "            encoding='latin1'\n",
    "        )\n",
    "        \n",
    "        # Step 2: Clean the data\n",
    "        df_clean = df.iloc[1:].copy()\n",
    "        df_clean = df_clean.drop(columns=['time'])\n",
    "        df_clean['date'] = pd.to_datetime(df_clean['date'])\n",
    "        df_clean['discharge_m3/s'] = pd.to_numeric(df_clean['discharge_m3/s'])\n",
    "        df_clean.set_index('date', inplace=True)\n",
    "        \n",
    "        return df_clean\n",
    "    except Exception as e:\n",
    "        print(f\"Error processing {os.path.basename(file_path)}: {e}\")\n",
    "        return None"
   ]
  },
  {
   "cell_type": "code",
   "execution_count": 12,
   "id": "9eb1eb15-6596-4707-807e-2dc7f73fae2f",
   "metadata": {},
   "outputs": [
    {
     "name": "stdout",
     "output_type": "stream",
     "text": [
      "✅ Chosen discharge station (1531450) loaded:\n"
     ]
    },
    {
     "data": {
      "text/html": [
       "<div>\n",
       "<style scoped>\n",
       "    .dataframe tbody tr th:only-of-type {\n",
       "        vertical-align: middle;\n",
       "    }\n",
       "\n",
       "    .dataframe tbody tr th {\n",
       "        vertical-align: top;\n",
       "    }\n",
       "\n",
       "    .dataframe thead th {\n",
       "        text-align: right;\n",
       "    }\n",
       "</style>\n",
       "<table border=\"1\" class=\"dataframe\">\n",
       "  <thead>\n",
       "    <tr style=\"text-align: right;\">\n",
       "      <th></th>\n",
       "      <th>discharge</th>\n",
       "    </tr>\n",
       "    <tr>\n",
       "      <th>date</th>\n",
       "      <th></th>\n",
       "    </tr>\n",
       "  </thead>\n",
       "  <tbody>\n",
       "    <tr>\n",
       "      <th>1975-01-01</th>\n",
       "      <td>18.480</td>\n",
       "    </tr>\n",
       "    <tr>\n",
       "      <th>1975-01-02</th>\n",
       "      <td>18.480</td>\n",
       "    </tr>\n",
       "    <tr>\n",
       "      <th>1975-01-03</th>\n",
       "      <td>17.065</td>\n",
       "    </tr>\n",
       "    <tr>\n",
       "      <th>1975-01-04</th>\n",
       "      <td>17.065</td>\n",
       "    </tr>\n",
       "    <tr>\n",
       "      <th>1975-01-05</th>\n",
       "      <td>17.065</td>\n",
       "    </tr>\n",
       "  </tbody>\n",
       "</table>\n",
       "</div>"
      ],
      "text/plain": [
       "            discharge\n",
       "date                 \n",
       "1975-01-01     18.480\n",
       "1975-01-02     18.480\n",
       "1975-01-03     17.065\n",
       "1975-01-04     17.065\n",
       "1975-01-05     17.065"
      ]
     },
     "execution_count": 12,
     "metadata": {},
     "output_type": "execute_result"
    }
   ],
   "source": [
    "# The function 'process_grdc_file' should already exist in a cell above.\n",
    "# We'll just call it with the correct file path.\n",
    "station_path = '../data/raw/1531450_Q_Day.Cmd.txt'\n",
    "df_discharge = process_grdc_file(station_path).rename(columns={'discharge_m3/s': 'discharge'})\n",
    "\n",
    "print(\"✅ Chosen discharge station (1531450) loaded:\")\n",
    "df_discharge.head()"
   ]
  },
  {
   "cell_type": "code",
   "execution_count": 16,
   "id": "1f93ed0e-eb72-49a9-a943-c49ec319a139",
   "metadata": {},
   "outputs": [
    {
     "name": "stdout",
     "output_type": "stream",
     "text": [
      "Successfully connected to Google Earth Engine.\n",
      "✅ Task submitted successfully!\n",
      "Now, go to the GEE website to run and monitor the task.\n"
     ]
    }
   ],
   "source": [
    "import ee\n",
    "import pandas as pd\n",
    "\n",
    "# Use the project ID you found earlier\n",
    "ee.Initialize(project='enduring-trees-475113-j3') # <-- IMPORTANT: Put your project ID here\n",
    "print(\"Successfully connected to Google Earth Engine.\")\n",
    "\n",
    "# Define the Volta Basin boundary\n",
    "volta_basin = ee.Geometry.Rectangle([-5.5, 4.5, 2.0, 11.5])\n",
    "\n",
    "# Filter the CHIRPS rainfall dataset by date\n",
    "chirps = ee.ImageCollection('UCSB-CHG/CHIRPS/DAILY') \\\n",
    "            .filter(ee.Filter.date('1981-01-01', '2023-12-31'))\n",
    "\n",
    "# This function calculates the average rainfall for each day\n",
    "def calculate_daily_rainfall(image):\n",
    "    mean_rainfall = image.reduceRegion(\n",
    "        reducer=ee.Reducer.mean(),\n",
    "        geometry=volta_basin,\n",
    "        scale=5566\n",
    "    ).get('precipitation')\n",
    "    return ee.Feature(None, {\n",
    "        'date': image.date().format('YYYY-MM-dd'),\n",
    "        'rainfall_mm': mean_rainfall\n",
    "    })\n",
    "\n",
    "daily_rainfall_features = chirps.map(calculate_daily_rainfall)\n",
    "\n",
    "# --- This creates an export \"task\" ---\n",
    "task = ee.batch.Export.table.toDrive(\n",
    "    collection=daily_rainfall_features,\n",
    "    description='Volta_Basin_Daily_Rainfall_1981_2023', # This will be the filename\n",
    "    fileFormat='CSV'\n",
    ")\n",
    "\n",
    "# Start the task. This sends the job to Google's servers.\n",
    "task.start()\n",
    "\n",
    "print(\"✅ Task submitted successfully!\")\n",
    "print(\"Now, go to the GEE website to run and monitor the task.\")"
   ]
  },
  {
   "cell_type": "code",
   "execution_count": 17,
   "id": "384565b3-ba3f-4652-ba83-f12d0057d87a",
   "metadata": {},
   "outputs": [
    {
     "name": "stdout",
     "output_type": "stream",
     "text": [
      "✅ Processed rainfall data loaded:\n"
     ]
    },
    {
     "data": {
      "text/html": [
       "<div>\n",
       "<style scoped>\n",
       "    .dataframe tbody tr th:only-of-type {\n",
       "        vertical-align: middle;\n",
       "    }\n",
       "\n",
       "    .dataframe tbody tr th {\n",
       "        vertical-align: top;\n",
       "    }\n",
       "\n",
       "    .dataframe thead th {\n",
       "        text-align: right;\n",
       "    }\n",
       "</style>\n",
       "<table border=\"1\" class=\"dataframe\">\n",
       "  <thead>\n",
       "    <tr style=\"text-align: right;\">\n",
       "      <th></th>\n",
       "      <th>system:index</th>\n",
       "      <th>rainfall_mm</th>\n",
       "      <th>.geo</th>\n",
       "    </tr>\n",
       "    <tr>\n",
       "      <th>date</th>\n",
       "      <th></th>\n",
       "      <th></th>\n",
       "      <th></th>\n",
       "    </tr>\n",
       "  </thead>\n",
       "  <tbody>\n",
       "    <tr>\n",
       "      <th>1981-01-01</th>\n",
       "      <td>19810101</td>\n",
       "      <td>0.024594</td>\n",
       "      <td>{\"type\":\"MultiPoint\",\"coordinates\":[]}</td>\n",
       "    </tr>\n",
       "    <tr>\n",
       "      <th>1981-01-02</th>\n",
       "      <td>19810102</td>\n",
       "      <td>0.000007</td>\n",
       "      <td>{\"type\":\"MultiPoint\",\"coordinates\":[]}</td>\n",
       "    </tr>\n",
       "    <tr>\n",
       "      <th>1981-01-03</th>\n",
       "      <td>19810103</td>\n",
       "      <td>0.000000</td>\n",
       "      <td>{\"type\":\"MultiPoint\",\"coordinates\":[]}</td>\n",
       "    </tr>\n",
       "    <tr>\n",
       "      <th>1981-01-04</th>\n",
       "      <td>19810104</td>\n",
       "      <td>0.343530</td>\n",
       "      <td>{\"type\":\"MultiPoint\",\"coordinates\":[]}</td>\n",
       "    </tr>\n",
       "    <tr>\n",
       "      <th>1981-01-05</th>\n",
       "      <td>19810105</td>\n",
       "      <td>0.002130</td>\n",
       "      <td>{\"type\":\"MultiPoint\",\"coordinates\":[]}</td>\n",
       "    </tr>\n",
       "  </tbody>\n",
       "</table>\n",
       "</div>"
      ],
      "text/plain": [
       "            system:index  rainfall_mm                                    .geo\n",
       "date                                                                         \n",
       "1981-01-01      19810101     0.024594  {\"type\":\"MultiPoint\",\"coordinates\":[]}\n",
       "1981-01-02      19810102     0.000007  {\"type\":\"MultiPoint\",\"coordinates\":[]}\n",
       "1981-01-03      19810103     0.000000  {\"type\":\"MultiPoint\",\"coordinates\":[]}\n",
       "1981-01-04      19810104     0.343530  {\"type\":\"MultiPoint\",\"coordinates\":[]}\n",
       "1981-01-05      19810105     0.002130  {\"type\":\"MultiPoint\",\"coordinates\":[]}"
      ]
     },
     "execution_count": 17,
     "metadata": {},
     "output_type": "execute_result"
    }
   ],
   "source": [
    "# Load the processed rainfall CSV\n",
    "rainfall_path = '../data/processed/Volta_Basin_Daily_Rainfall_1981_2023.csv'\n",
    "df_rainfall = pd.read_csv(rainfall_path, index_col='date', parse_dates=True)\n",
    "\n",
    "print(\"✅ Processed rainfall data loaded:\")\n",
    "df_rainfall.head()"
   ]
  },
  {
   "cell_type": "code",
   "execution_count": 18,
   "id": "a3a1d6cc-38c4-4c67-ab33-fb4ae8dee475",
   "metadata": {},
   "outputs": [
    {
     "name": "stdout",
     "output_type": "stream",
     "text": [
      "--- Master DataFrame Info ---\n",
      "<class 'pandas.core.frame.DataFrame'>\n",
      "DatetimeIndex: 9555 entries, 1981-01-01 to 2007-02-28\n",
      "Data columns (total 5 columns):\n",
      " #   Column        Non-Null Count  Dtype  \n",
      "---  ------        --------------  -----  \n",
      " 0   discharge     9555 non-null   float64\n",
      " 1   system:index  9555 non-null   int64  \n",
      " 2   rainfall_mm   9555 non-null   float64\n",
      " 3   .geo          9555 non-null   object \n",
      " 4   soi_index     9555 non-null   float64\n",
      "dtypes: float64(3), int64(1), object(1)\n",
      "memory usage: 447.9+ KB\n",
      "\n",
      "--- Master DataFrame Preview ---\n"
     ]
    },
    {
     "data": {
      "text/html": [
       "<div>\n",
       "<style scoped>\n",
       "    .dataframe tbody tr th:only-of-type {\n",
       "        vertical-align: middle;\n",
       "    }\n",
       "\n",
       "    .dataframe tbody tr th {\n",
       "        vertical-align: top;\n",
       "    }\n",
       "\n",
       "    .dataframe thead th {\n",
       "        text-align: right;\n",
       "    }\n",
       "</style>\n",
       "<table border=\"1\" class=\"dataframe\">\n",
       "  <thead>\n",
       "    <tr style=\"text-align: right;\">\n",
       "      <th></th>\n",
       "      <th>discharge</th>\n",
       "      <th>system:index</th>\n",
       "      <th>rainfall_mm</th>\n",
       "      <th>.geo</th>\n",
       "      <th>soi_index</th>\n",
       "    </tr>\n",
       "    <tr>\n",
       "      <th>date</th>\n",
       "      <th></th>\n",
       "      <th></th>\n",
       "      <th></th>\n",
       "      <th></th>\n",
       "      <th></th>\n",
       "    </tr>\n",
       "  </thead>\n",
       "  <tbody>\n",
       "    <tr>\n",
       "      <th>1981-01-01</th>\n",
       "      <td>17.065</td>\n",
       "      <td>19810101</td>\n",
       "      <td>0.024594</td>\n",
       "      <td>{\"type\":\"MultiPoint\",\"coordinates\":[]}</td>\n",
       "      <td>0.27</td>\n",
       "    </tr>\n",
       "    <tr>\n",
       "      <th>1981-01-02</th>\n",
       "      <td>17.065</td>\n",
       "      <td>19810102</td>\n",
       "      <td>0.000007</td>\n",
       "      <td>{\"type\":\"MultiPoint\",\"coordinates\":[]}</td>\n",
       "      <td>0.27</td>\n",
       "    </tr>\n",
       "    <tr>\n",
       "      <th>1981-01-03</th>\n",
       "      <td>17.065</td>\n",
       "      <td>19810103</td>\n",
       "      <td>0.000000</td>\n",
       "      <td>{\"type\":\"MultiPoint\",\"coordinates\":[]}</td>\n",
       "      <td>0.27</td>\n",
       "    </tr>\n",
       "    <tr>\n",
       "      <th>1981-01-04</th>\n",
       "      <td>16.386</td>\n",
       "      <td>19810104</td>\n",
       "      <td>0.343530</td>\n",
       "      <td>{\"type\":\"MultiPoint\",\"coordinates\":[]}</td>\n",
       "      <td>0.27</td>\n",
       "    </tr>\n",
       "    <tr>\n",
       "      <th>1981-01-05</th>\n",
       "      <td>16.386</td>\n",
       "      <td>19810105</td>\n",
       "      <td>0.002130</td>\n",
       "      <td>{\"type\":\"MultiPoint\",\"coordinates\":[]}</td>\n",
       "      <td>0.27</td>\n",
       "    </tr>\n",
       "  </tbody>\n",
       "</table>\n",
       "</div>"
      ],
      "text/plain": [
       "            discharge  system:index  rainfall_mm  \\\n",
       "date                                               \n",
       "1981-01-01     17.065      19810101     0.024594   \n",
       "1981-01-02     17.065      19810102     0.000007   \n",
       "1981-01-03     17.065      19810103     0.000000   \n",
       "1981-01-04     16.386      19810104     0.343530   \n",
       "1981-01-05     16.386      19810105     0.002130   \n",
       "\n",
       "                                              .geo  soi_index  \n",
       "date                                                           \n",
       "1981-01-01  {\"type\":\"MultiPoint\",\"coordinates\":[]}       0.27  \n",
       "1981-01-02  {\"type\":\"MultiPoint\",\"coordinates\":[]}       0.27  \n",
       "1981-01-03  {\"type\":\"MultiPoint\",\"coordinates\":[]}       0.27  \n",
       "1981-01-04  {\"type\":\"MultiPoint\",\"coordinates\":[]}       0.27  \n",
       "1981-01-05  {\"type\":\"MultiPoint\",\"coordinates\":[]}       0.27  "
      ]
     },
     "execution_count": 18,
     "metadata": {},
     "output_type": "execute_result"
    }
   ],
   "source": [
    "# The variable 'df_soi_daily' should still be in memory from the previous step.\n",
    "# Let's combine all three sources.\n",
    "df_master = df_discharge.join(df_rainfall, how='inner').join(df_soi_daily, how='inner')\n",
    "\n",
    "# Let's check for any remaining missing values and see our final dataset\n",
    "print(\"--- Master DataFrame Info ---\")\n",
    "df_master.info()\n",
    "\n",
    "print(\"\\n--- Master DataFrame Preview ---\")\n",
    "df_master.head()"
   ]
  },
  {
   "cell_type": "code",
   "execution_count": 8,
   "id": "60bc97ec-0fa9-4a8e-9830-8235d854b32b",
   "metadata": {},
   "outputs": [
    {
     "name": "stdout",
     "output_type": "stream",
     "text": [
      "✅ Model-ready data successfully saved to: ../data/processed/model_ready_data.csv\n"
     ]
    }
   ],
   "source": [
    "# Define the path for our final, model-ready dataset\n",
    "output_path = '../data/processed/model_ready_data.csv'\n",
    "\n",
    "# Save the DataFrame to a CSV file\n",
    "df_master.to_csv(output_path)\n",
    "\n",
    "print(f\"✅ Model-ready data successfully saved to: {output_path}\")"
   ]
  },
  {
   "cell_type": "code",
   "execution_count": 9,
   "id": "55df3b74-dcfc-43fa-8a97-d41634d348a1",
   "metadata": {},
   "outputs": [
    {
     "name": "stdout",
     "output_type": "stream",
     "text": [
      "--- Starting FINAL Data Processing Pipeline ---\n",
      "✅ Raw data loaded and cleaned.\n",
      "✅ Datasets merged and numeric columns selected.\n",
      "✅ Feature engineering complete. Target column created.\n",
      "\n",
      "--- PIPELINE COMPLETE! ---\n",
      "✅ Final data saved to: ../data/processed/model_ready_data.csv\n",
      "\n",
      "--- Verification of Saved File ---\n",
      "Columns in saved CSV file: ['date', 'discharge', 'rainfall_mm', 'soi_index', 'discharge_lag_1', 'rainfall_lag_1', 'discharge_lag_2', 'rainfall_lag_2', 'discharge_lag_3', 'rainfall_lag_3', 'discharge_lag_4', 'rainfall_lag_4', 'discharge_lag_5', 'rainfall_lag_5', 'discharge_lag_6', 'rainfall_lag_6', 'discharge_lag_7', 'rainfall_lag_7', 'rainfall_ma_7', 'rainfall_ma_30', 'month', 'target_discharge_t+7']\n"
     ]
    }
   ],
   "source": [
    "import pandas as pd\n",
    "import numpy as np\n",
    "import os\n",
    "\n",
    "print(\"--- Starting FINAL Data Processing Pipeline ---\")\n",
    "\n",
    "# =================================================================\n",
    "# 1. DEFINE THE CLEANING FUNCTION\n",
    "# =================================================================\n",
    "def process_grdc_file(file_path):\n",
    "    try:\n",
    "        df = pd.read_csv(file_path, comment='#', sep=';', header=None, names=['date', 'time', 'discharge_m3/s'], encoding='latin1')\n",
    "        df_clean = df.iloc[1:].copy()\n",
    "        df_clean = df_clean.drop(columns=['time'])\n",
    "        df_clean['date'] = pd.to_datetime(df_clean['date'])\n",
    "        df_clean['discharge_m3/s'] = pd.to_numeric(df_clean['discharge_m3/s'])\n",
    "        df_clean.set_index('date', inplace=True)\n",
    "        return df_clean\n",
    "    except Exception as e:\n",
    "        return None\n",
    "\n",
    "# =================================================================\n",
    "# 2. LOAD AND CLEAN ALL RAW DATA\n",
    "# =================================================================\n",
    "station_path = '../data/raw/1531450_Q_Day.Cmd.txt'\n",
    "df_discharge = process_grdc_file(station_path).rename(columns={'discharge_m3/s': 'discharge'})\n",
    "rainfall_path = '../data/processed/Volta_Basin_Daily_Rainfall_1981_2023.csv'\n",
    "df_rainfall = pd.read_csv(rainfall_path, index_col='date', parse_dates=True)\n",
    "soi_path = '../data/raw/soi.long.csv'\n",
    "df_soi = pd.read_csv(soi_path)\n",
    "df_soi.columns = df_soi.columns.str.strip()\n",
    "date_str_fixed = df_soi['Date'].str[:-1] + '1'\n",
    "df_soi['date'] = pd.to_datetime(date_str_fixed)\n",
    "value_col_name = [col for col in df_soi.columns if col not in ['Date', 'date']][0]\n",
    "df_soi = df_soi.rename(columns={value_col_name: 'soi_index'})\n",
    "df_soi = df_soi[['date', 'soi_index']]\n",
    "df_soi.set_index('date', inplace=True)\n",
    "df_soi_daily = df_soi.resample('D').ffill()\n",
    "print(\"✅ Raw data loaded and cleaned.\")\n",
    "\n",
    "# =================================================================\n",
    "# 3. MERGE AND PREPARE FOR FEATURE ENGINEERING\n",
    "# =================================================================\n",
    "df_master = df_discharge.join(df_rainfall, how='inner').join(df_soi_daily, how='inner')\n",
    "df_numeric = df_master[['discharge', 'rainfall_mm', 'soi_index']]\n",
    "print(\"✅ Datasets merged and numeric columns selected.\")\n",
    "\n",
    "# =================================================================\n",
    "# 4. PERFORM FEATURE ENGINEERING\n",
    "# =================================================================\n",
    "df_model = df_numeric.copy()\n",
    "for i in range(1, 8):\n",
    "    df_model[f'discharge_lag_{i}'] = df_model['discharge'].shift(i)\n",
    "    df_model[f'rainfall_lag_{i}'] = df_model['rainfall_mm'].shift(i)\n",
    "df_model['rainfall_ma_7'] = df_model['rainfall_mm'].rolling(window=7).mean()\n",
    "df_model['rainfall_ma_30'] = df_model['rainfall_mm'].rolling(window=30).mean()\n",
    "df_model['month'] = df_model.index.month\n",
    "df_model['target_discharge_t+7'] = df_model['discharge'].shift(-7) # Target column created here\n",
    "df_model.dropna(inplace=True)\n",
    "print(\"✅ Feature engineering complete. Target column created.\")\n",
    "\n",
    "# =================================================================\n",
    "# 5. SAVE THE FINAL, MODEL-READY DATA\n",
    "# =================================================================\n",
    "output_path = '../data/processed/model_ready_data.csv'\n",
    "df_model.to_csv(output_path)\n",
    "print(\"\\n--- PIPELINE COMPLETE! ---\")\n",
    "print(f\"✅ Final data saved to: {output_path}\")\n",
    "\n",
    "# --- Verification Step ---\n",
    "df_check = pd.read_csv(output_path)\n",
    "print(\"\\n--- Verification of Saved File ---\")\n",
    "print(\"Columns in saved CSV file:\", df_check.columns.to_list())"
   ]
  },
  {
   "cell_type": "code",
   "execution_count": null,
   "id": "1ee2f7ff-bce0-43ce-a6b6-79c2b4500645",
   "metadata": {},
   "outputs": [],
   "source": []
  }
 ],
 "metadata": {
  "kernelspec": {
   "display_name": "Python 3 (ipykernel)",
   "language": "python",
   "name": "python3"
  },
  "language_info": {
   "codemirror_mode": {
    "name": "ipython",
    "version": 3
   },
   "file_extension": ".py",
   "mimetype": "text/x-python",
   "name": "python",
   "nbconvert_exporter": "python",
   "pygments_lexer": "ipython3",
   "version": "3.13.5"
  }
 },
 "nbformat": 4,
 "nbformat_minor": 5
}
